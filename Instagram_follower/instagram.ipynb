{
 "cells": [
  {
   "cell_type": "markdown",
   "metadata": {},
   "source": [
    "### 인스타 자동 로그인 후 특정 인스타 사이트에서 들어가서 팔로우수 자동 추가하기"
   ]
  },
  {
   "cell_type": "code",
   "execution_count": 1,
   "metadata": {},
   "outputs": [],
   "source": [
    "from selenium import webdriver\n",
    "\n",
    "from selenium.webdriver.chrome.service import Service\n",
    "from webdriver_manager.chrome import ChromeDriverManager\n",
    "from selenium.webdriver.common.by import By\n",
    "\n",
    "\n",
    "# 크롬 옵션 세팅\n",
    "def get_chrome_driver():\n",
    "    # 1. 크롬 옵션 세팅\n",
    "    chrome_options = webdriver.ChromeOptions()\n",
    "\n",
    "    # 2. driver 생성하기\n",
    "    driver = webdriver.Chrome(\n",
    "        service=Service(ChromeDriverManager().install()),  # 가장 많이 바뀐 부분\n",
    "        options=chrome_options\n",
    "    )\n",
    "\n",
    "    return driver"
   ]
  },
  {
   "cell_type": "code",
   "execution_count": 13,
   "metadata": {},
   "outputs": [
    {
     "name": "stdout",
     "output_type": "stream",
     "text": [
      "\n"
     ]
    },
    {
     "name": "stderr",
     "output_type": "stream",
     "text": [
      "[WDM] - ====== WebDriver manager ======\n",
      "[WDM] - Current google-chrome version is 106.0.5249\n",
      "[WDM] - Get LATEST chromedriver version for 106.0.5249 google-chrome\n",
      "[WDM] - Driver [C:\\Users\\psk\\.wdm\\drivers\\chromedriver\\win32\\106.0.5249.61\\chromedriver.exe] found in cache\n"
     ]
    }
   ],
   "source": [
    "\n",
    "driver = get_chrome_driver()\n",
    "driver.get('https://www.instagram.com/')\n"
   ]
  },
  {
   "cell_type": "code",
   "execution_count": 14,
   "metadata": {},
   "outputs": [],
   "source": [
    "from selenium.webdriver.common.keys import Keys\n",
    "id_input = driver.find_element(By.NAME,'username')\n",
    "id_input.click()\n",
    "id_input.send_keys(\"apfhda7\")"
   ]
  },
  {
   "cell_type": "code",
   "execution_count": 15,
   "metadata": {},
   "outputs": [],
   "source": [
    "password_input = driver.find_element(By.NAME,'password')\n",
    "password_input.click()\n",
    "password_input.send_keys('rnjs138029tkd')"
   ]
  },
  {
   "cell_type": "code",
   "execution_count": 16,
   "metadata": {},
   "outputs": [],
   "source": [
    "password_input.send_keys(Keys.ENTER)"
   ]
  },
  {
   "cell_type": "code",
   "execution_count": 33,
   "metadata": {},
   "outputs": [],
   "source": [
    "import time\n",
    "chrome_driver_path=\"C:/Users/psk/chromedriver_win32/\"\n",
    "ID='apfhda7'\n",
    "PW='rnjs138029tkd'"
   ]
  },
  {
   "cell_type": "code",
   "execution_count": null,
   "metadata": {},
   "outputs": [],
   "source": [
    "# 함수를 만들기 위해 위와 같이 test\n",
    "class InstaFollower():\n",
    "    \n",
    "    def __init__(self,path):\n",
    "        self.driver=webdriver.Chrome(executable_path=path)\n",
    "    \n",
    "    def login(self):\n",
    "        self.driver.get('https://www.instagram.com/')\n",
    "        time.sleep(1)\n",
    "        id_input = self.driver.find_element(By.NAME,'username')\n",
    "        id_input.click()\n",
    "        id_input.send_keys(ID)\n",
    "        password_input = self.driver.find_element(By.NAME,'password')\n",
    "        password_input.click()\n",
    "        password_input.send_keys(PW)\n",
    "        time.sleep(1)\n",
    "        password_input.send_keys(Keys.ENTER)\n",
    "        \n",
    "    \n",
    "    def find_followers(self):\n",
    "        pass\n",
    "    \n",
    "    def follow(self):\n",
    "        pass\n",
    "\n",
    "\n",
    "\n",
    "bot=InstaFollower(chrome_driver_path)\n",
    "bot.login()\n",
    "bot.find_followers()\n",
    "bot.follow()"
   ]
  },
  {
   "cell_type": "code",
   "execution_count": 59,
   "metadata": {},
   "outputs": [],
   "source": [
    "keyword=\"Arsenal\""
   ]
  },
  {
   "cell_type": "code",
   "execution_count": 60,
   "metadata": {},
   "outputs": [],
   "source": [
    "driver.get(f\"https://www.instagram.com/{keyword}\")"
   ]
  },
  {
   "cell_type": "code",
   "execution_count": 61,
   "metadata": {},
   "outputs": [
    {
     "ename": "NoSuchElementException",
     "evalue": "Message: no such element: Unable to locate element: {\"method\":\"css selector\",\"selector\":\".x78zum5.x1q0g3np.xieb3on a\"}\n  (Session info: chrome=106.0.5249.119)\nStacktrace:\nBacktrace:\n\tOrdinal0 [0x00B91ED3+2236115]\n\tOrdinal0 [0x00B292F1+1807089]\n\tOrdinal0 [0x00A366FD+812797]\n\tOrdinal0 [0x00A655DF+1005023]\n\tOrdinal0 [0x00A657CB+1005515]\n\tOrdinal0 [0x00A97632+1209906]\n\tOrdinal0 [0x00A81AD4+1120980]\n\tOrdinal0 [0x00A959E2+1202658]\n\tOrdinal0 [0x00A818A6+1120422]\n\tOrdinal0 [0x00A5A73D+960317]\n\tOrdinal0 [0x00A5B71F+964383]\n\tGetHandleVerifier [0x00E3E7E2+2743074]\n\tGetHandleVerifier [0x00E308D4+2685972]\n\tGetHandleVerifier [0x00C22BAA+532202]\n\tGetHandleVerifier [0x00C21990+527568]\n\tOrdinal0 [0x00B3080C+1837068]\n\tOrdinal0 [0x00B34CD8+1854680]\n\tOrdinal0 [0x00B34DC5+1854917]\n\tOrdinal0 [0x00B3ED64+1895780]\n\tBaseThreadInitThunk [0x75C7FA29+25]\n\tRtlGetAppContainerNamedObjectPath [0x77157BBE+286]\n\tRtlGetAppContainerNamedObjectPath [0x77157B8E+238]\n",
     "output_type": "error",
     "traceback": [
      "\u001b[1;31m---------------------------------------------------------------------------\u001b[0m",
      "\u001b[1;31mNoSuchElementException\u001b[0m                    Traceback (most recent call last)",
      "\u001b[1;32mc:\\Users\\psk\\PycharmProjects\\Instagram_follower\\instagram.ipynb 셀 10\u001b[0m in \u001b[0;36m<cell line: 2>\u001b[1;34m()\u001b[0m\n\u001b[0;32m      <a href='vscode-notebook-cell:/c%3A/Users/psk/PycharmProjects/Instagram_follower/instagram.ipynb#X11sZmlsZQ%3D%3D?line=0'>1</a>\u001b[0m time\u001b[39m.\u001b[39msleep(\u001b[39m2\u001b[39m)\n\u001b[1;32m----> <a href='vscode-notebook-cell:/c%3A/Users/psk/PycharmProjects/Instagram_follower/instagram.ipynb#X11sZmlsZQ%3D%3D?line=1'>2</a>\u001b[0m follwers \u001b[39m=\u001b[39m driver\u001b[39m.\u001b[39;49mfind_element(By\u001b[39m.\u001b[39;49mCSS_SELECTOR,\u001b[39m\"\u001b[39;49m\u001b[39m.x78zum5.x1q0g3np.xieb3on a\u001b[39;49m\u001b[39m\"\u001b[39;49m)\n",
      "File \u001b[1;32mc:\\Users\\psk\\anaconda3\\lib\\site-packages\\selenium\\webdriver\\remote\\webdriver.py:857\u001b[0m, in \u001b[0;36mWebDriver.find_element\u001b[1;34m(self, by, value)\u001b[0m\n\u001b[0;32m    854\u001b[0m     by \u001b[39m=\u001b[39m By\u001b[39m.\u001b[39mCSS_SELECTOR\n\u001b[0;32m    855\u001b[0m     value \u001b[39m=\u001b[39m \u001b[39m'\u001b[39m\u001b[39m[name=\u001b[39m\u001b[39m\"\u001b[39m\u001b[39m%s\u001b[39;00m\u001b[39m\"\u001b[39m\u001b[39m]\u001b[39m\u001b[39m'\u001b[39m \u001b[39m%\u001b[39m value\n\u001b[1;32m--> 857\u001b[0m \u001b[39mreturn\u001b[39;00m \u001b[39mself\u001b[39;49m\u001b[39m.\u001b[39;49mexecute(Command\u001b[39m.\u001b[39;49mFIND_ELEMENT, {\n\u001b[0;32m    858\u001b[0m     \u001b[39m'\u001b[39;49m\u001b[39musing\u001b[39;49m\u001b[39m'\u001b[39;49m: by,\n\u001b[0;32m    859\u001b[0m     \u001b[39m'\u001b[39;49m\u001b[39mvalue\u001b[39;49m\u001b[39m'\u001b[39;49m: value})[\u001b[39m'\u001b[39m\u001b[39mvalue\u001b[39m\u001b[39m'\u001b[39m]\n",
      "File \u001b[1;32mc:\\Users\\psk\\anaconda3\\lib\\site-packages\\selenium\\webdriver\\remote\\webdriver.py:435\u001b[0m, in \u001b[0;36mWebDriver.execute\u001b[1;34m(self, driver_command, params)\u001b[0m\n\u001b[0;32m    433\u001b[0m response \u001b[39m=\u001b[39m \u001b[39mself\u001b[39m\u001b[39m.\u001b[39mcommand_executor\u001b[39m.\u001b[39mexecute(driver_command, params)\n\u001b[0;32m    434\u001b[0m \u001b[39mif\u001b[39;00m response:\n\u001b[1;32m--> 435\u001b[0m     \u001b[39mself\u001b[39;49m\u001b[39m.\u001b[39;49merror_handler\u001b[39m.\u001b[39;49mcheck_response(response)\n\u001b[0;32m    436\u001b[0m     response[\u001b[39m'\u001b[39m\u001b[39mvalue\u001b[39m\u001b[39m'\u001b[39m] \u001b[39m=\u001b[39m \u001b[39mself\u001b[39m\u001b[39m.\u001b[39m_unwrap_value(\n\u001b[0;32m    437\u001b[0m         response\u001b[39m.\u001b[39mget(\u001b[39m'\u001b[39m\u001b[39mvalue\u001b[39m\u001b[39m'\u001b[39m, \u001b[39mNone\u001b[39;00m))\n\u001b[0;32m    438\u001b[0m     \u001b[39mreturn\u001b[39;00m response\n",
      "File \u001b[1;32mc:\\Users\\psk\\anaconda3\\lib\\site-packages\\selenium\\webdriver\\remote\\errorhandler.py:247\u001b[0m, in \u001b[0;36mErrorHandler.check_response\u001b[1;34m(self, response)\u001b[0m\n\u001b[0;32m    245\u001b[0m         alert_text \u001b[39m=\u001b[39m value[\u001b[39m'\u001b[39m\u001b[39malert\u001b[39m\u001b[39m'\u001b[39m]\u001b[39m.\u001b[39mget(\u001b[39m'\u001b[39m\u001b[39mtext\u001b[39m\u001b[39m'\u001b[39m)\n\u001b[0;32m    246\u001b[0m     \u001b[39mraise\u001b[39;00m exception_class(message, screen, stacktrace, alert_text)  \u001b[39m# type: ignore[call-arg]  # mypy is not smart enough here\u001b[39;00m\n\u001b[1;32m--> 247\u001b[0m \u001b[39mraise\u001b[39;00m exception_class(message, screen, stacktrace)\n",
      "\u001b[1;31mNoSuchElementException\u001b[0m: Message: no such element: Unable to locate element: {\"method\":\"css selector\",\"selector\":\".x78zum5.x1q0g3np.xieb3on a\"}\n  (Session info: chrome=106.0.5249.119)\nStacktrace:\nBacktrace:\n\tOrdinal0 [0x00B91ED3+2236115]\n\tOrdinal0 [0x00B292F1+1807089]\n\tOrdinal0 [0x00A366FD+812797]\n\tOrdinal0 [0x00A655DF+1005023]\n\tOrdinal0 [0x00A657CB+1005515]\n\tOrdinal0 [0x00A97632+1209906]\n\tOrdinal0 [0x00A81AD4+1120980]\n\tOrdinal0 [0x00A959E2+1202658]\n\tOrdinal0 [0x00A818A6+1120422]\n\tOrdinal0 [0x00A5A73D+960317]\n\tOrdinal0 [0x00A5B71F+964383]\n\tGetHandleVerifier [0x00E3E7E2+2743074]\n\tGetHandleVerifier [0x00E308D4+2685972]\n\tGetHandleVerifier [0x00C22BAA+532202]\n\tGetHandleVerifier [0x00C21990+527568]\n\tOrdinal0 [0x00B3080C+1837068]\n\tOrdinal0 [0x00B34CD8+1854680]\n\tOrdinal0 [0x00B34DC5+1854917]\n\tOrdinal0 [0x00B3ED64+1895780]\n\tBaseThreadInitThunk [0x75C7FA29+25]\n\tRtlGetAppContainerNamedObjectPath [0x77157BBE+286]\n\tRtlGetAppContainerNamedObjectPath [0x77157B8E+238]\n"
     ]
    }
   ],
   "source": [
    "# 팔로우 글자 클릭\n",
    "time.sleep(2)\n",
    "follwers = driver.find_element(By.CSS_SELECTOR,\".x78zum5.x1q0g3np.xieb3on a\")\n",
    "# print(follwers.text)"
   ]
  },
  {
   "cell_type": "code",
   "execution_count": null,
   "metadata": {},
   "outputs": [],
   "source": []
  },
  {
   "cell_type": "code",
   "execution_count": null,
   "metadata": {},
   "outputs": [],
   "source": []
  }
 ],
 "metadata": {
  "kernelspec": {
   "display_name": "Python 3.9.12 ('base')",
   "language": "python",
   "name": "python3"
  },
  "language_info": {
   "codemirror_mode": {
    "name": "ipython",
    "version": 3
   },
   "file_extension": ".py",
   "mimetype": "text/x-python",
   "name": "python",
   "nbconvert_exporter": "python",
   "pygments_lexer": "ipython3",
   "version": "3.9.12"
  },
  "orig_nbformat": 4,
  "vscode": {
   "interpreter": {
    "hash": "7166505faa8f697867ed099a47ad143e29bdea2dc2abec05983d875f808011d7"
   }
  }
 },
 "nbformat": 4,
 "nbformat_minor": 2
}
